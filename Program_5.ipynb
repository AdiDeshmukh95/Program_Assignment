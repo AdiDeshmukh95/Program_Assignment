{
 "cells": [
  {
   "cell_type": "markdown",
   "metadata": {},
   "source": [
    "1.Write a Python Program to Find LCM?"
   ]
  },
  {
   "cell_type": "code",
   "execution_count": 1,
   "metadata": {
    "scrolled": true
   },
   "outputs": [],
   "source": [
    "def Lcm():\n",
    "    a = int(input(\"Enter a Number:\"))\n",
    "    b = int(input(\"Enter a Number:\")) \n",
    "\n",
    "    if a>b:\n",
    "        min1 = a\n",
    "    else:\n",
    "        min1 = b\n",
    "    while(1):\n",
    "        if (min1%a  ==0 and min1%b==0):\n",
    "            print(\"LCM is :\",min1)\n",
    "            break\n",
    "        min1=min1+1    \n",
    "    "
   ]
  },
  {
   "cell_type": "code",
   "execution_count": 2,
   "metadata": {},
   "outputs": [
    {
     "name": "stdout",
     "output_type": "stream",
     "text": [
      "Enter a Number:15\n",
      "Enter a Number:10\n",
      "LCM is : 30\n"
     ]
    }
   ],
   "source": [
    "Lcm()"
   ]
  },
  {
   "cell_type": "markdown",
   "metadata": {},
   "source": [
    "2.Write a Python Program to Find HCF?"
   ]
  },
  {
   "cell_type": "code",
   "execution_count": 12,
   "metadata": {},
   "outputs": [
    {
     "name": "stdout",
     "output_type": "stream",
     "text": [
      "Enter a Number:10\n",
      "Enter a Number:15\n",
      "HCF of two number is :  5\n"
     ]
    }
   ],
   "source": [
    "import math\n",
    "a = int(input(\"Enter a Number:\"))\n",
    "b = int(input(\"Enter a Number:\")) \n",
    "print(\"HCF of two number is : \",math.gcd(a,b))"
   ]
  },
  {
   "cell_type": "markdown",
   "metadata": {},
   "source": [
    "3.Write a Python Program to Convert Decimal to Binary, Octal and Hexadecimal?"
   ]
  },
  {
   "cell_type": "code",
   "execution_count": 9,
   "metadata": {},
   "outputs": [
    {
     "name": "stdout",
     "output_type": "stream",
     "text": [
      "Enter a number to convert:25\n",
      "the decimal value of 25 is:\n",
      "0x19 is Hexadecimal\n",
      "0o31 is Octadecimal\n",
      "0b11001 is Binary\n"
     ]
    }
   ],
   "source": [
    "a = int(input(\"Enter a number to convert:\"))\n",
    "print(f\"The decimal value of {a} is:\")\n",
    "print(hex(a),\"is Hexadecimal\")\n",
    "print(oct(a),\"is Octadecimal\")\n",
    "print(bin(a),\"is Binary\")"
   ]
  },
  {
   "cell_type": "markdown",
   "metadata": {},
   "source": [
    "4.Write a Python Program To Find ASCII value of a character?"
   ]
  },
  {
   "cell_type": "code",
   "execution_count": 12,
   "metadata": {},
   "outputs": [
    {
     "name": "stdout",
     "output_type": "stream",
     "text": [
      "Enter a character:A\n",
      "65\n"
     ]
    }
   ],
   "source": [
    "a = input(\"Enter a character:\")\n",
    "print(ord(a))"
   ]
  },
  {
   "cell_type": "markdown",
   "metadata": {},
   "source": [
    "5.Write a Python Program to Make a Simple Calculator with 4 basic mathematical operations?"
   ]
  },
  {
   "cell_type": "code",
   "execution_count": 1,
   "metadata": {},
   "outputs": [
    {
     "name": "stdout",
     "output_type": "stream",
     "text": [
      "Select a operation :\n",
      "1. Addition\n",
      "2. Subtraction\n",
      "3. Multiplication\n",
      "4. Division\n",
      "Enter choise : 1/2/3/4 :1\n",
      "Input a:2\n",
      "Input b:2\n",
      "4\n",
      "Proceed for another operation (Y/N):Y\n",
      "Enter choise : 1/2/3/4 :2\n",
      "Input a:2\n",
      "Input b:2\n",
      "0\n",
      "Proceed for another operation (Y/N):N\n"
     ]
    }
   ],
   "source": [
    "print(\"Select a operation :\")\n",
    "print(\"1. Addition\")\n",
    "print(\"2. Subtraction\")\n",
    "print(\"3. Multiplication\")\n",
    "print(\"4. Division\")\n",
    "\n",
    "while True:\n",
    "    \n",
    "    p = (input(\"Enter choise : 1/2/3/4 :\"))\n",
    "    \n",
    "    if p in ('1','2','3','4'):\n",
    "      \n",
    "        a = int(input(\"Input a:\"))\n",
    "        b = int(input(\"Input b:\"))\n",
    "    \n",
    "        if p == '1':\n",
    "             print(a+b)\n",
    "\n",
    "        elif p == '2':\n",
    "             print(a-b)\n",
    "\n",
    "        elif p == '3':\n",
    "             print(a*b)\n",
    "\n",
    "        elif p == '4':\n",
    "             print(a/b)\n",
    "\n",
    "        next_calculation = input(\"Proceed for another operation (Y/N):\")\n",
    "\n",
    "        if  next_calculation == \"N\":\n",
    "            break\n",
    "\n"
   ]
  },
  {
   "cell_type": "code",
   "execution_count": null,
   "metadata": {},
   "outputs": [],
   "source": []
  },
  {
   "cell_type": "code",
   "execution_count": null,
   "metadata": {},
   "outputs": [],
   "source": []
  },
  {
   "cell_type": "code",
   "execution_count": null,
   "metadata": {},
   "outputs": [],
   "source": []
  }
 ],
 "metadata": {
  "kernelspec": {
   "display_name": "Python 3",
   "language": "python",
   "name": "python3"
  },
  "language_info": {
   "codemirror_mode": {
    "name": "ipython",
    "version": 3
   },
   "file_extension": ".py",
   "mimetype": "text/x-python",
   "name": "python",
   "nbconvert_exporter": "python",
   "pygments_lexer": "ipython3",
   "version": "3.7.1"
  }
 },
 "nbformat": 4,
 "nbformat_minor": 2
}
