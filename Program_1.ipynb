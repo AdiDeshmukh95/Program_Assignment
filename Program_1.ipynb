{
 "cells": [
  {
   "cell_type": "markdown",
   "metadata": {},
   "source": [
    "1.Write a Python program to print \"Hello Python\"?"
   ]
  },
  {
   "cell_type": "code",
   "execution_count": 1,
   "metadata": {},
   "outputs": [
    {
     "name": "stdout",
     "output_type": "stream",
     "text": [
      "Hello Python\n"
     ]
    }
   ],
   "source": [
    "print('Hello Python')"
   ]
  },
  {
   "cell_type": "markdown",
   "metadata": {},
   "source": [
    "2.Write a Python program to do arithmetical operations addition and division.?"
   ]
  },
  {
   "cell_type": "code",
   "execution_count": 6,
   "metadata": {},
   "outputs": [
    {
     "name": "stdout",
     "output_type": "stream",
     "text": [
      "Enter the 1st value:40\n",
      "Enter the 2nd value:20\n",
      "Addition: 60.0\n",
      "Division: 2.0\n"
     ]
    }
   ],
   "source": [
    "a = float(input(\"Enter the 1st value:\"))\n",
    "b = float(input(\"Enter the 2nd value:\"))\n",
    "add = a+b\n",
    "div = a/b\n",
    "print('Addition:',add)\n",
    "print('Division:',div)"
   ]
  },
  {
   "cell_type": "markdown",
   "metadata": {},
   "source": [
    "3.Write a Python program to find the area of a triangle?"
   ]
  },
  {
   "cell_type": "code",
   "execution_count": 15,
   "metadata": {},
   "outputs": [
    {
     "name": "stdout",
     "output_type": "stream",
     "text": [
      "Enter 1st side of triangle:10\n",
      "Enter 2nd side of triangle:12\n",
      "Enter 3rd side of triangle:14\n",
      "Area of triangle : 58.787753826796276\n"
     ]
    }
   ],
   "source": [
    "a = float(input('Enter 1st side of triangle:'))\n",
    "b = float(input('Enter 2nd side of triangle:'))\n",
    "c = float(input('Enter 3rd side of triangle:'))\n",
    "s = (a+b+c)/2\n",
    "e = (s*(s-a)*(s-b)*(s-c)) ** 0.5\n",
    "\n",
    "print('Area of triangle :',e)          "
   ]
  },
  {
   "cell_type": "markdown",
   "metadata": {},
   "source": [
    "4.Write a Python program to swap two variables?"
   ]
  },
  {
   "cell_type": "code",
   "execution_count": 23,
   "metadata": {},
   "outputs": [
    {
     "name": "stdout",
     "output_type": "stream",
     "text": [
      "Value of x: 8\n",
      "Value of y: 2\n"
     ]
    }
   ],
   "source": [
    "x = 2\n",
    "y = 8\n",
    "(x,y)=(y,x)\n",
    "print('Value of x:',x)\n",
    "print('Value of y:',y)"
   ]
  },
  {
   "cell_type": "markdown",
   "metadata": {},
   "source": [
    "5.Write a Python program to generate a random number?"
   ]
  },
  {
   "cell_type": "code",
   "execution_count": 24,
   "metadata": {},
   "outputs": [
    {
     "name": "stdout",
     "output_type": "stream",
     "text": [
      "54\n"
     ]
    }
   ],
   "source": [
    "import random\n",
    "print(random.randint(0,100))"
   ]
  },
  {
   "cell_type": "code",
   "execution_count": null,
   "metadata": {},
   "outputs": [],
   "source": []
  }
 ],
 "metadata": {
  "kernelspec": {
   "display_name": "Python 3",
   "language": "python",
   "name": "python3"
  },
  "language_info": {
   "codemirror_mode": {
    "name": "ipython",
    "version": 3
   },
   "file_extension": ".py",
   "mimetype": "text/x-python",
   "name": "python",
   "nbconvert_exporter": "python",
   "pygments_lexer": "ipython3",
   "version": "3.7.1"
  }
 },
 "nbformat": 4,
 "nbformat_minor": 2
}
