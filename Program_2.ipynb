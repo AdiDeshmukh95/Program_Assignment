{
 "cells": [
  {
   "cell_type": "markdown",
   "metadata": {},
   "source": [
    "1.Write a Python program to convert kilometers to miles?"
   ]
  },
  {
   "cell_type": "code",
   "execution_count": 4,
   "metadata": {},
   "outputs": [
    {
     "name": "stdout",
     "output_type": "stream",
     "text": [
      "Enter Distance in Kilometers:100\n",
      "Distance in Miles: 62.137\n"
     ]
    }
   ],
   "source": [
    "a = float(input(\"Enter Distance in Kilometers:\"))\n",
    "b = a*0.62137\n",
    "print(\"Distance in Miles:\",b)"
   ]
  },
  {
   "cell_type": "markdown",
   "metadata": {},
   "source": [
    "2.Write a Python program to convert Celsius to Fahrenheit?"
   ]
  },
  {
   "cell_type": "code",
   "execution_count": 5,
   "metadata": {},
   "outputs": [
    {
     "name": "stdout",
     "output_type": "stream",
     "text": [
      "Enter temperature in Celsius50\n",
      "Temperature in Fahrenheit: 122.0\n"
     ]
    }
   ],
   "source": [
    "c = float(input(\"Enter temperature in Celsius\"))\n",
    "d = c * (9/5)+32\n",
    "print(\"Temperature in Fahrenheit:\",d)"
   ]
  },
  {
   "cell_type": "markdown",
   "metadata": {},
   "source": [
    "3.Write a Python program to display calendar?"
   ]
  },
  {
   "cell_type": "code",
   "execution_count": 12,
   "metadata": {},
   "outputs": [
    {
     "name": "stdout",
     "output_type": "stream",
     "text": [
      "Enter month:8\n",
      "Enter year:2022\n",
      "    August 2022\n",
      "Mo Tu We Th Fr Sa Su\n",
      " 1  2  3  4  5  6  7\n",
      " 8  9 10 11 12 13 14\n",
      "15 16 17 18 19 20 21\n",
      "22 23 24 25 26 27 28\n",
      "29 30 31\n",
      "\n"
     ]
    }
   ],
   "source": [
    "import calendar\n",
    "\n",
    "e = int(input(\"Enter month:\"))\n",
    "g = int(input(\"Enter year:\"))\n",
    "print(calendar.month(g,e))\n"
   ]
  },
  {
   "cell_type": "markdown",
   "metadata": {},
   "source": [
    "4.Write a Python program to solve quadratic equation?"
   ]
  },
  {
   "cell_type": "code",
   "execution_count": 2,
   "metadata": {
    "scrolled": true
   },
   "outputs": [
    {
     "name": "stdout",
     "output_type": "stream",
     "text": [
      "Put value of a :5\n",
      "Put value of b :6\n",
      "Put value of c :8\n",
      "roots are complex\n",
      "Values of x are (-6+1.1135528725660042j) and (-6-1.1135528725660042j)\n"
     ]
    }
   ],
   "source": [
    "#ax2+bx+c=o\n",
    "a = float(input(\"Put value of a :\"))\n",
    "b = float(input(\"Put value of b :\"))\n",
    "c = float(input(\"Put value of c :\"))\n",
    "\n",
    "if b**2 < 4*a*c:\n",
    "    print(\"roots are complex\")\n",
    "elif b**2 == 4*a*c:\n",
    "    print(\"roots are real and same\")\n",
    "elif b**2 > 4*a*c:\n",
    "    print(\"roots are real and different\")\n",
    "    \n",
    "sol_1 = (-b + (b**2-4*a*c)**0.5/(2*a))\n",
    "sol_2 = (-b - (b**2-4*a*c)**0.5/(2*a))\n",
    "print(\"Values of x are {0} and {1}\".format(sol_1,sol_2))\n",
    "      \n",
    "        "
   ]
  },
  {
   "cell_type": "markdown",
   "metadata": {},
   "source": [
    "5.Write a Python program to swap two variables without temp variable?"
   ]
  },
  {
   "cell_type": "code",
   "execution_count": 10,
   "metadata": {},
   "outputs": [],
   "source": [
    "def swap(a,b):\n",
    "    x = a\n",
    "    y = b\n",
    "    print(\"value of a =\",b)\n",
    "    print(\"value of b =\",a)\n"
   ]
  },
  {
   "cell_type": "code",
   "execution_count": 11,
   "metadata": {},
   "outputs": [
    {
     "name": "stdout",
     "output_type": "stream",
     "text": [
      "value of a = 10\n",
      "value of b = 9\n"
     ]
    }
   ],
   "source": [
    "swap(9,10)"
   ]
  },
  {
   "cell_type": "code",
   "execution_count": 12,
   "metadata": {},
   "outputs": [
    {
     "name": "stdout",
     "output_type": "stream",
     "text": [
      "value of a = 9\n",
      "value of b = 10\n"
     ]
    }
   ],
   "source": [
    "a = 10\n",
    "b = 9\n",
    "\n",
    "(a,b) = (b,a)\n",
    "print(\"value of a =\",a)\n",
    "print(\"value of b =\",b)"
   ]
  },
  {
   "cell_type": "code",
   "execution_count": null,
   "metadata": {},
   "outputs": [],
   "source": []
  }
 ],
 "metadata": {
  "kernelspec": {
   "display_name": "Python 3",
   "language": "python",
   "name": "python3"
  },
  "language_info": {
   "codemirror_mode": {
    "name": "ipython",
    "version": 3
   },
   "file_extension": ".py",
   "mimetype": "text/x-python",
   "name": "python",
   "nbconvert_exporter": "python",
   "pygments_lexer": "ipython3",
   "version": "3.7.1"
  }
 },
 "nbformat": 4,
 "nbformat_minor": 2
}
